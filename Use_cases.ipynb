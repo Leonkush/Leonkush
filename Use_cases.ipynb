{
  "nbformat": 4,
  "nbformat_minor": 0,
  "metadata": {
    "colab": {
      "name": "Use cases.ipynb",
      "provenance": [],
      "authorship_tag": "ABX9TyPlmMUTJiRFo8YyBBNr9JvE",
      "include_colab_link": true
    },
    "kernelspec": {
      "name": "python3",
      "display_name": "Python 3"
    },
    "language_info": {
      "name": "python"
    }
  },
  "cells": [
    {
      "cell_type": "markdown",
      "metadata": {
        "id": "view-in-github",
        "colab_type": "text"
      },
      "source": [
        "<a href=\"https://colab.research.google.com/github/Leonkush/Leonkush/blob/main/Use_cases.ipynb\" target=\"_parent\"><img src=\"https://colab.research.google.com/assets/colab-badge.svg\" alt=\"Open In Colab\"/></a>"
      ]
    },
    {
      "cell_type": "markdown",
      "metadata": {
        "id": "QitfzXTBr7Qf"
      },
      "source": [
        "Quadratic Equation"
      ]
    },
    {
      "cell_type": "code",
      "metadata": {
        "colab": {
          "base_uri": "https://localhost:8080/"
        },
        "id": "J0HYca0kr93Q",
        "outputId": "e82ca021-e4df-4086-bbf0-c445fa195adb"
      },
      "source": [
        "import math\n",
        "print(\"Enter values of a,b,c in quadratic equation\")\n",
        "a=int(input(\"Enter a- \"))\n",
        "b=int(input(\"Enter b- \"))\n",
        "c=int(input(\"Enter c- \"))\n",
        "x1=(-b+math.sqrt(b*b-4*a*c))/(2*a)\n",
        "x2=(-b-math.sqrt(b*b-4*a*c))/(2*a)\n",
        "print(\"Values of x are\",x1,\" and \",x2)"
      ],
      "execution_count": 3,
      "outputs": [
        {
          "output_type": "stream",
          "name": "stdout",
          "text": [
            "Enter values of a,b,c in quadratic equation\n",
            "Enter a- 2\n",
            "Enter b- -6\n",
            "Enter c- 3\n",
            "Values of x are 2.3660254037844384  and  0.6339745962155614\n"
          ]
        }
      ]
    },
    {
      "cell_type": "markdown",
      "metadata": {
        "id": "uMdJ9WG0uUPU"
      },
      "source": [
        "Otp Genration"
      ]
    },
    {
      "cell_type": "code",
      "metadata": {
        "colab": {
          "base_uri": "https://localhost:8080/"
        },
        "id": "cTu5t2UZtnAA",
        "outputId": "3a93d440-d48c-43fe-982e-356004525e6f"
      },
      "source": [
        "import random\n",
        "def otp(l):\n",
        "  s=\"\"\n",
        "  c= \"0123456789abcdefghijklmnopqrstuvwxyzABCDEFGHIJKLMNOPQRSTUVWXYZ!@#$%^&*_\"\n",
        "  for i in range(l):\n",
        "    s=s+random.choice(c);\n",
        "  return s;\n",
        "l=input(\"Enter otp length- \");\n",
        "print(\"OTP is- \",otp(int(l)))\n"
      ],
      "execution_count": 8,
      "outputs": [
        {
          "output_type": "stream",
          "name": "stdout",
          "text": [
            "Enter otp length- 10\n",
            "OTP is-  tv3&va8chk\n"
          ]
        }
      ]
    },
    {
      "cell_type": "markdown",
      "metadata": {
        "id": "MI7I8x40x728"
      },
      "source": [
        "Email Verification"
      ]
    },
    {
      "cell_type": "code",
      "metadata": {
        "colab": {
          "base_uri": "https://localhost:8080/"
        },
        "id": "L8UA0ZtWv5LP",
        "outputId": "1d2151b9-e8cf-44fc-a74d-d4d17543f90a"
      },
      "source": [
        "\n",
        "import re\n",
        "s=input()\n",
        "if re.search(\"^[a-zA-Z]+[.]*[_a-zA-Z0-9]*@[a-z]*[.]+[a-z]\",s):\n",
        "    print(\"valid\");\n",
        "else:\n",
        "    print(\"Not Valid\")"
      ],
      "execution_count": 10,
      "outputs": [
        {
          "output_type": "stream",
          "name": "stdout",
          "text": [
            "dbhscbscb@gmail.com\n",
            "valid\n"
          ]
        }
      ]
    },
    {
      "cell_type": "code",
      "metadata": {
        "id": "vpBalv2Ux-BT"
      },
      "source": [
        ""
      ],
      "execution_count": null,
      "outputs": []
    }
  ]
}