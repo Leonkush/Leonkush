{
  "nbformat": 4,
  "nbformat_minor": 0,
  "metadata": {
    "colab": {
      "name": "practice-3.ipynb",
      "provenance": [],
      "authorship_tag": "ABX9TyNF3NPDMM0OqiS5ITW+ImJp",
      "include_colab_link": true
    },
    "kernelspec": {
      "name": "python3",
      "display_name": "Python 3"
    },
    "language_info": {
      "name": "python"
    }
  },
  "cells": [
    {
      "cell_type": "markdown",
      "metadata": {
        "id": "view-in-github",
        "colab_type": "text"
      },
      "source": [
        "<a href=\"https://colab.research.google.com/github/Leonkush/Leonkush/blob/main/practice_3.ipynb\" target=\"_parent\"><img src=\"https://colab.research.google.com/assets/colab-badge.svg\" alt=\"Open In Colab\"/></a>"
      ]
    },
    {
      "cell_type": "markdown",
      "metadata": {
        "id": "K8JZNG3UUpZj"
      },
      "source": [
        "Q1. WAP to check if the given number is a palindrome"
      ]
    },
    {
      "cell_type": "code",
      "metadata": {
        "colab": {
          "base_uri": "https://localhost:8080/"
        },
        "id": "_QTUm7EsUqS8",
        "outputId": "7c138bfc-ad7c-4fad-9c11-6599c3dca892"
      },
      "source": [
        "a=int(input(\"Enter a number \"))\n",
        "n=a\n",
        "s=0\n",
        "while n>0:\n",
        "  r=n%10\n",
        "  s=s*10+r\n",
        "  n=int(n/10)\n",
        "if a==s:\n",
        "  print(\"Palindrome\")\n",
        "else:\n",
        "  print(\"Not Palindrome\")"
      ],
      "execution_count": 2,
      "outputs": [
        {
          "output_type": "stream",
          "name": "stdout",
          "text": [
            "Enter a number 1551\n",
            "Palindrome\n"
          ]
        }
      ]
    },
    {
      "cell_type": "markdown",
      "metadata": {
        "id": "XQQLfa5UUwup"
      },
      "source": [
        "Q2. WAP to print multiplication table of the given number"
      ]
    },
    {
      "cell_type": "code",
      "metadata": {
        "colab": {
          "base_uri": "https://localhost:8080/"
        },
        "id": "5urF0aWRU1DJ",
        "outputId": "0a4b1b02-e045-4a7f-bb1f-c7641c902c95"
      },
      "source": [
        "a=int(input(\"Enter a number \"))\n",
        "for i in range(1,11):\n",
        "  print(a,\" * \",i,\" = \",a*i)"
      ],
      "execution_count": 4,
      "outputs": [
        {
          "output_type": "stream",
          "name": "stdout",
          "text": [
            "Enter a number 5\n",
            "5  *  1  =  5\n",
            "5  *  2  =  10\n",
            "5  *  3  =  15\n",
            "5  *  4  =  20\n",
            "5  *  5  =  25\n",
            "5  *  6  =  30\n",
            "5  *  7  =  35\n",
            "5  *  8  =  40\n",
            "5  *  9  =  45\n",
            "5  *  10  =  50\n"
          ]
        }
      ]
    },
    {
      "cell_type": "markdown",
      "metadata": {
        "id": "wOo7WuauU14E"
      },
      "source": [
        "Q3. WAP to take two lists of numbers from the user and create a new list such that it contains odd numbers from the first list and even numbers from the second list"
      ]
    },
    {
      "cell_type": "code",
      "metadata": {
        "colab": {
          "base_uri": "https://localhost:8080/"
        },
        "id": "bGZK-04WU5BT",
        "outputId": "03b666b3-755d-417a-eeca-5bb111db3f37"
      },
      "source": [
        "l1=input(\"First list \").split();\n",
        "l2=input(\"Second list \").split();\n",
        "l3=[]\n",
        "for i in l1:\n",
        "  n=int(i);\n",
        "  if n%2!=0:\n",
        "    l3.append(n)\n",
        "for i in l2:\n",
        "  n=int(i);\n",
        "  if n%2==0:\n",
        "    l3.append(n)\n",
        "print(l3)"
      ],
      "execution_count": 6,
      "outputs": [
        {
          "output_type": "stream",
          "name": "stdout",
          "text": [
            "First list 1 2 3 4 5 6\n",
            "Second list 8 9 10 11\n",
            "[1, 3, 5, 8, 10]\n"
          ]
        }
      ]
    },
    {
      "cell_type": "markdown",
      "metadata": {
        "id": "K90yDKnkU5xb"
      },
      "source": [
        "Q4: WAP to take two matrix (2x2) input from the user and perform matrix multiplication\n"
      ]
    },
    {
      "cell_type": "code",
      "metadata": {
        "colab": {
          "base_uri": "https://localhost:8080/"
        },
        "id": "FAGlPomvU8gp",
        "outputId": "2eb13450-235a-4bcc-cfbb-92745444b6ac"
      },
      "source": [
        "X=[[2,3],[4,5]]\n",
        "Y=[[1,0],  [2,1]]\n",
        "r=[[0,0],  [0,0]]\n",
        "for i in range(len(X)):\n",
        "  for k in range(len(Y[0])):    \n",
        "    for j in range(len(Y)):\n",
        "      r[i][k]=X[i][j]*Y[j][k]+r[i][k]\n",
        "print(r)"
      ],
      "execution_count": 14,
      "outputs": [
        {
          "output_type": "stream",
          "name": "stdout",
          "text": [
            "[[8, 3], [14, 5]]\n"
          ]
        }
      ]
    },
    {
      "cell_type": "code",
      "metadata": {
        "id": "BC4yyqvCaFis"
      },
      "source": [
        ""
      ],
      "execution_count": null,
      "outputs": []
    }
  ]
}