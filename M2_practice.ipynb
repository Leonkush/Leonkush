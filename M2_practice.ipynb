{
  "nbformat": 4,
  "nbformat_minor": 0,
  "metadata": {
    "colab": {
      "name": "M2 practice.ipynb",
      "provenance": [],
      "collapsed_sections": [],
      "authorship_tag": "ABX9TyNw1SyymeWuSSnyLx0ckLFy",
      "include_colab_link": true
    },
    "kernelspec": {
      "name": "python3",
      "display_name": "Python 3"
    },
    "language_info": {
      "name": "python"
    }
  },
  "cells": [
    {
      "cell_type": "markdown",
      "metadata": {
        "id": "view-in-github",
        "colab_type": "text"
      },
      "source": [
        "<a href=\"https://colab.research.google.com/github/Leonkush/Leonkush/blob/main/M2_practice.ipynb\" target=\"_parent\"><img src=\"https://colab.research.google.com/assets/colab-badge.svg\" alt=\"Open In Colab\"/></a>"
      ]
    },
    {
      "cell_type": "markdown",
      "metadata": {
        "id": "u2OD95_30fkh"
      },
      "source": [
        "Password Validation"
      ]
    },
    {
      "cell_type": "code",
      "metadata": {
        "colab": {
          "base_uri": "https://localhost:8080/"
        },
        "id": "gA4LVn7T0d5r",
        "outputId": "ddb9b95c-0a61-4c76-8086-04514091fa6e"
      },
      "source": [
        "import re\n",
        "s=input(\"Enter password\")\n",
        "if len(s)<8:\n",
        "  print(\"Enter atleast 8 characters\")\n",
        "elif not(re.search(\"[a-z]\",s)):\n",
        "    print(\"Enter atleast 1 lower case character\");\n",
        "elif not(re.search(\"[A-Z]\",s)):\n",
        "    print(\"Enter atleast 1 Upper case character\");\n",
        "elif not(re.search(\"[0-9]\",s)):\n",
        "    print(\"Enter atleast 1 digit\");\n",
        "elif not(re.search(\"[!@#$%^&*+=]\",s)):\n",
        "    print(\"Enter atleast 1 special case character\");\n",
        "else:\n",
        "  print(\"Valid\")"
      ],
      "execution_count": 5,
      "outputs": [
        {
          "output_type": "stream",
          "name": "stdout",
          "text": [
            "Enter passwordshagcghA4544+\n",
            "Valid\n"
          ]
        }
      ]
    },
    {
      "cell_type": "markdown",
      "metadata": {
        "id": "VOcr3KCC3bT4"
      },
      "source": [
        "Matching Html tag\n"
      ]
    },
    {
      "cell_type": "code",
      "metadata": {
        "colab": {
          "base_uri": "https://localhost:8080/"
        },
        "id": "GBCiMiA60gMW",
        "outputId": "bfbd2b91-f807-4f49-8268-9700aba1064d"
      },
      "source": [
        "s=input(\"Enter string\")\n",
        "if re.search(\"^[<][\\w]+[>]$\",s):\n",
        "  print(\"Html Tag\")\n",
        "else:\n",
        "  print(\"Not Html Tag\")"
      ],
      "execution_count": 8,
      "outputs": [
        {
          "output_type": "stream",
          "name": "stdout",
          "text": [
            "Enter string<fbbfgbF>\n",
            "Html Tag\n"
          ]
        }
      ]
    },
    {
      "cell_type": "markdown",
      "metadata": {
        "id": "ICdLXJxp6-i8"
      },
      "source": [
        "Rock, Paper and Scissors"
      ]
    },
    {
      "cell_type": "code",
      "metadata": {
        "colab": {
          "base_uri": "https://localhost:8080/"
        },
        "id": "-PxSLgVm4090",
        "outputId": "73f5911d-a253-4558-a3a0-45c1925a14a7"
      },
      "source": [
        "import random\n",
        "l=[\"rock\",\"paper\",\"scissors\"]\n",
        "print(\"Welcome to Rock, Paper and Scissors\")\n",
        "s=input(\"Enter your move\").lower()\n",
        "r=random.choice(l)\n",
        "print(\"Computer- \",r)\n",
        "if r==s:\n",
        "  print(\"Tie\")\n",
        "elif s==\"rock\":\n",
        "  if r==\"paper\":\n",
        "    print(\"Paper Wraps rock, You loose\")\n",
        "  if r==\"scissors\":\n",
        "    print(\"Rock breaks scissors, You Win\")\n",
        "elif s==\"paper\":\n",
        "  if r==\"rock\":\n",
        "    print(\"Paper Wraps rock, You Win\")\n",
        "  if r==\"scissors\":\n",
        "    print(\"Scissors cut paper, You loose\")\n",
        "elif s==\"scissors\":\n",
        "  if r==\"paper\":\n",
        "    print(\"Scissors cut paper, You Win\")\n",
        "  if r==\"rock\":\n",
        "    print(\"Rock breaks scissors, You loose\")"
      ],
      "execution_count": 10,
      "outputs": [
        {
          "output_type": "stream",
          "name": "stdout",
          "text": [
            "Welcome to Rock, Paper and Scissors\n",
            "Enter your movepaper\n",
            "Computer-  scissors\n",
            "Scissors cut paper, You loose\n"
          ]
        }
      ]
    },
    {
      "cell_type": "markdown",
      "metadata": {
        "id": "Dhv-70yX9kEW"
      },
      "source": [
        "Hangman\n"
      ]
    },
    {
      "cell_type": "code",
      "metadata": {
        "colab": {
          "base_uri": "https://localhost:8080/"
        },
        "id": "L1V8Tla39nwn",
        "outputId": "ade8ebc2-52d4-4f18-f9af-a0ae60c47d24"
      },
      "source": [
        "import random\n",
        "words=[\"paper\",\"pencil\",\"apple\",\"boat\"]\n",
        "w=random.choice(words)\n",
        "print(\"Welcome to hangman\")\n",
        "e=\"-\"*len(w)\n",
        "print(e)\n",
        "print(\"You have 3 lives\")\n",
        "l=3\n",
        "while l>0:\n",
        "  x=input(\"Enter your guess- \")\n",
        "  if x in w:\n",
        "    print(\"Well done\");\n",
        "    for i in range(len(w)):\n",
        "      if w[i]==x:\n",
        "        e=e[:i]+x+e[i+1:]\n",
        "    print(e)\n",
        "    if e==w:\n",
        "      print(\"You won\")\n",
        "      break;\n",
        "  else:\n",
        "    l=l-1;\n",
        "    print(\"Wrong guess\")\n",
        "    print(\"You have \",l,\" lives remaining\")\n"
      ],
      "execution_count": 16,
      "outputs": [
        {
          "output_type": "stream",
          "name": "stdout",
          "text": [
            "Welcome to hangman\n",
            "-----\n",
            "You have 3 lives\n",
            "Enter your guess- h\n",
            "Wrong guess\n",
            "You have  2  lives remaining\n",
            "Enter your guess- p\n",
            "Well done\n",
            "p-p--\n",
            "Enter your guess- a\n",
            "Well done\n",
            "pap--\n",
            "Enter your guess- e\n",
            "Well done\n",
            "pape-\n",
            "Enter your guess- r\n",
            "Well done\n",
            "paper\n",
            "You won\n"
          ]
        }
      ]
    },
    {
      "cell_type": "code",
      "metadata": {
        "id": "qnhnXjRrRXzY"
      },
      "source": [
        ""
      ],
      "execution_count": null,
      "outputs": []
    }
  ]
}