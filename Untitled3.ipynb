{
  "nbformat": 4,
  "nbformat_minor": 0,
  "metadata": {
    "colab": {
      "name": "Untitled3.ipynb",
      "provenance": [],
      "authorship_tag": "ABX9TyMlspyxcRoc0bwctaaUVMaX",
      "include_colab_link": true
    },
    "kernelspec": {
      "name": "python3",
      "display_name": "Python 3"
    },
    "language_info": {
      "name": "python"
    }
  },
  "cells": [
    {
      "cell_type": "markdown",
      "metadata": {
        "id": "view-in-github",
        "colab_type": "text"
      },
      "source": [
        "<a href=\"https://colab.research.google.com/github/Leonkush/Leonkush/blob/main/Untitled3.ipynb\" target=\"_parent\"><img src=\"https://colab.research.google.com/assets/colab-badge.svg\" alt=\"Open In Colab\"/></a>"
      ]
    },
    {
      "cell_type": "markdown",
      "metadata": {
        "id": "G1GbN9qKRBHf"
      },
      "source": [
        "Q1: WAP print to check if the number entered by the user is even or odd."
      ]
    },
    {
      "cell_type": "code",
      "metadata": {
        "colab": {
          "base_uri": "https://localhost:8080/"
        },
        "id": "eFBTp51TQ_Lo",
        "outputId": "710a34cd-e7c1-401e-f0f0-feed319516aa"
      },
      "source": [
        "a=int(input(\"Enter a number \"))\n",
        "if a%2==0:\n",
        "  print(\"Even\")\n",
        "else:\n",
        "  print(\"Odd\")"
      ],
      "execution_count": 4,
      "outputs": [
        {
          "output_type": "stream",
          "name": "stdout",
          "text": [
            "Enter a number 5\n",
            "Odd\n"
          ]
        }
      ]
    },
    {
      "cell_type": "markdown",
      "metadata": {
        "id": "G9G01XopRVhG"
      },
      "source": [
        "Q2: WAP to take values of length and breadth of a rectangle from user and check if it is square or not.\n"
      ]
    },
    {
      "cell_type": "code",
      "metadata": {
        "colab": {
          "base_uri": "https://localhost:8080/"
        },
        "id": "7iXDSv65RTZL",
        "outputId": "0de3c579-dcfd-457d-8aeb-336743b8ebc7"
      },
      "source": [
        "l=int(input(\"Enter length \"))\n",
        "b=int(input(\"Enter breadth \"))\n",
        "if l==b:\n",
        "  print(\"Square\")\n",
        "else:\n",
        "  print(\"Not square\")"
      ],
      "execution_count": 6,
      "outputs": [
        {
          "output_type": "stream",
          "name": "stdout",
          "text": [
            "Enter length 6\n",
            "Enter breadth 6\n",
            "Square\n"
          ]
        }
      ]
    },
    {
      "cell_type": "markdown",
      "metadata": {
        "id": "W_Zlr-ovR2oH"
      },
      "source": [
        "Q3: A shopkeeper gives a discount of 10% if the cost of purchased quantity is more than 1000. WAP to ask user for quantity. Considering one unit will cost 100, calculate the total cost to be paid by the user.\n"
      ]
    },
    {
      "cell_type": "code",
      "metadata": {
        "colab": {
          "base_uri": "https://localhost:8080/"
        },
        "id": "NhkLk9N9Rtou",
        "outputId": "a548093d-174a-4e08-ef54-f7355c7cacc7"
      },
      "source": [
        "q=int(input(\"Enter quantity \"))\n",
        "p=q*100\n",
        "if p>1000:\n",
        "  a=0.1*p+p\n",
        "  print(\"total cost to be paid by the user.- \",a)\n",
        "else:\n",
        "  print(\"total cost to be paid by the user.- \",p)"
      ],
      "execution_count": 8,
      "outputs": [
        {
          "output_type": "stream",
          "name": "stdout",
          "text": [
            "Enter quantity 5\n",
            "total cost to be paid by the user.-  500\n"
          ]
        }
      ]
    },
    {
      "cell_type": "markdown",
      "metadata": {
        "id": "zEeG27eISwfz"
      },
      "source": [
        "Q4: A school has following rules for grading system:\n",
        "- Below 25 - F\n",
        "- 25 to 45 - E\n",
        "- 45 to 50 - D\n",
        "- 50 to 60 - C\n",
        "- 60 to 80 - B\n",
        "- Above 80 - A\n",
        "\n",
        "Ask user to enter marks and print the corresponding grade.\n"
      ]
    },
    {
      "cell_type": "code",
      "metadata": {
        "colab": {
          "base_uri": "https://localhost:8080/"
        },
        "id": "x45KwkW1Sim4",
        "outputId": "531e48bc-f8ce-4b2d-f1c8-fd28501f3d08"
      },
      "source": [
        "m=int(input(\"Enter marks \"))\n",
        "if m<25:\n",
        "  print(\"F\")\n",
        "elif m>=25 and m<45:\n",
        "  print(\"E\")\n",
        "elif m>=45 and m<50:\n",
        "  print(\"D\")\n",
        "elif m>=50 and m<60:\n",
        "  print(\"C\")\n",
        "elif m>=60 and m<80:\n",
        "  print(\"B\")\n",
        "elif m>=80:\n",
        "  print(\"A\")"
      ],
      "execution_count": 10,
      "outputs": [
        {
          "output_type": "stream",
          "name": "stdout",
          "text": [
            "Enter marks 70\n",
            "B\n"
          ]
        }
      ]
    }
  ]
}